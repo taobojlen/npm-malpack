{
 "cells": [
  {
   "cell_type": "code",
   "execution_count": 1,
   "metadata": {},
   "outputs": [],
   "source": [
    "import pandas as pd\n",
    "import matplotlib.pyplot as plt\n",
    "import matplotlib.dates as mdates\n",
    "plt.rcParams['figure.figsize'] = [10, 5]"
   ]
  },
  {
   "cell_type": "code",
   "execution_count": 2,
   "metadata": {},
   "outputs": [
    {
     "data": {
      "text/plain": [
       "id                                                                  1513\n",
       "created                                 2020-04-10 14:11:45.993000+00:00\n",
       "updated                                 2020-04-10 14:11:45.993000+00:00\n",
       "deleted                                                              NaT\n",
       "title                                               Malicious 󠅮󠅰󠅭Package\n",
       "found_by               {'link': '', 'name': 'Microsoft Vulnerability ...\n",
       "reported_by            {'link': '', 'name': 'Microsoft Vulnerability ...\n",
       "module_name                                                   m-backdoor\n",
       "cves                                                                  []\n",
       "vulnerable_versions                                              >=0.0.0\n",
       "patched_versions                                                  <0.0.0\n",
       "overview               All versions of `m-backdoor` contain malicious...\n",
       "recommendation                      Remove the package from your system.\n",
       "references                                                              \n",
       "access                                                            public\n",
       "severity                                                        critical\n",
       "cwe                                                              CWE-506\n",
       "formatted                                  {'created': 'Apr 10th, 2020'}\n",
       "Name: 0, dtype: object"
      ]
     },
     "execution_count": 2,
     "metadata": {},
     "output_type": "execute_result"
    }
   ],
   "source": [
    "df = pd.read_json(\n",
    "    \"../npm-malpack/malicious_packages.json\",\n",
    "    convert_dates=[\"created\", \"updated\", \"deleted\"]\n",
    ")\n",
    "\n",
    "df.iloc[0]"
   ]
  },
  {
   "cell_type": "code",
   "execution_count": 3,
   "metadata": {},
   "outputs": [
    {
     "data": {
      "text/plain": [
       "id                              int64\n",
       "created                datetime64[ns]\n",
       "updated                datetime64[ns]\n",
       "deleted                datetime64[ns]\n",
       "title                          object\n",
       "found_by                       object\n",
       "reported_by                    object\n",
       "module_name                    object\n",
       "cves                           object\n",
       "vulnerable_versions            object\n",
       "patched_versions               object\n",
       "overview                       object\n",
       "recommendation                 object\n",
       "references                     object\n",
       "access                         object\n",
       "severity                       object\n",
       "cwe                            object\n",
       "formatted                      object\n",
       "dtype: object"
      ]
     },
     "execution_count": 3,
     "metadata": {},
     "output_type": "execute_result"
    }
   ],
   "source": [
    "# Strip timezone information\n",
    "df[\"created\"] = df[\"created\"].dt.tz_localize(None)\n",
    "df[\"updated\"] = df[\"updated\"].dt.tz_localize(None)\n",
    "df.index = df.set_index('created').index.astype('datetime64[ns]')\n",
    "df.dtypes"
   ]
  },
  {
   "cell_type": "code",
   "execution_count": 4,
   "metadata": {},
   "outputs": [
    {
     "data": {
      "image/png": "[encoded data removed]",
      "text/plain": [
       "<Figure size 720x360 with 1 Axes>"
      ]
     },
     "metadata": {
      "needs_background": "light"
     },
     "output_type": "display_data"
    }
   ],
   "source": [
    "ax = frequencies = df[\"created\"].groupby(pd.Grouper(freq=\"M\")).count().plot(kind=\"bar\")"
   ]
  },
  {
   "cell_type": "code",
   "execution_count": 5,
   "metadata": {},
   "outputs": [
    {
     "data": {
      "text/plain": [
       "created\n",
       "2017-08-31     1\n",
       "2017-09-30     0\n",
       "2017-10-31     0\n",
       "2017-11-30     0\n",
       "2017-12-31     0\n",
       "2018-01-31     0\n",
       "2018-02-28     0\n",
       "2018-03-31     0\n",
       "2018-04-30     0\n",
       "2018-05-31    31\n",
       "2018-06-30     0\n",
       "2018-07-31     4\n",
       "2018-08-31     6\n",
       "2018-09-30     0\n",
       "2018-10-31     0\n",
       "2018-11-30     1\n",
       "2018-12-31     0\n",
       "2019-01-31     4\n",
       "2019-02-28     0\n",
       "2019-03-31     0\n",
       "2019-04-30     0\n",
       "2019-05-31    48\n",
       "2019-06-30    43\n",
       "2019-07-31    32\n",
       "2019-08-31    32\n",
       "2019-09-30     2\n",
       "2019-10-31    83\n",
       "2019-11-30    79\n",
       "2019-12-31     0\n",
       "2020-01-31     1\n",
       "2020-02-29     0\n",
       "2020-03-31     0\n",
       "2020-04-30     1\n",
       "Freq: M, Name: created, dtype: int64"
      ]
     },
     "execution_count": 5,
     "metadata": {},
     "output_type": "execute_result"
    }
   ],
   "source": [
    "df[\"created\"].groupby(pd.Grouper(freq=\"M\")).count()"
   ]
  },
  {
   "cell_type": "code",
   "execution_count": 6,
   "metadata": {},
   "outputs": [],
   "source": [
    "import matplotlib.pyplot as plt\n",
    "from matplotlib.ticker import MultipleLocator\n",
    "import matplotlib"
   ]
  },
  {
   "cell_type": "code",
   "execution_count": 7,
   "metadata": {},
   "outputs": [],
   "source": [
    "counts = list(df[\"created\"].groupby(pd.Grouper(freq=\"M\")).count())"
   ]
  },
  {
   "cell_type": "code",
   "execution_count": 9,
   "metadata": {},
   "outputs": [
    {
     "name": "stdout",
     "output_type": "stream",
     "text": [
      "2017-08-07 18:25:16.285000\n",
      "2020-04-10 14:11:45.993000\n",
      "['2017-08', '2017-09', '2017-10', '2017-11', '2017-12', '2018-01', '2018-02', '2018-03', '2018-04', '2018-05', '2018-06', '2018-07', '2018-08', '2018-09', '2018-10', '2018-11', '2018-12', '2019-01', '2019-02', '2019-03', '2019-04', '2019-05', '2019-06', '2019-07', '2019-08', '2019-09', '2019-10', '2019-11', '2019-12', '2020-01', '2020-02', '2020-03', '2020-04']\n"
     ]
    },
    {
     "data": {
      "image/png": "[encoded data removed]",
      "text/plain": [
       "<Figure size 720x216 with 1 Axes>"
      ]
     },
     "metadata": {
      "needs_background": "light"
     },
     "output_type": "display_data"
    }
   ],
   "source": [
    "print(min(df['created']))\n",
    "print(max(df['created']))\n",
    "matplotlib.rcParams['figure.figsize'] = [10, 3]\n",
    "month_range = pd.date_range('2017-07-07', '2020-04-30', freq='MS').strftime(\"%Y-%m\").tolist()\n",
    "print(month_range)\n",
    "plt.bar(month_range, counts)\n",
    "plt.xticks(month_range[::2], rotation=315)\n",
    "plt.grid(b=True, axis='y', which='both')\n",
    "plt.xlabel(\"Time\")\n",
    "plt.ylabel(\"Count\")\n",
    "plt.show()"
   ]
  }
 ],
 "metadata": {
  "kernelspec": {
   "display_name": "Python 3",
   "language": "python",
   "name": "python3"
  },
  "language_info": {
   "codemirror_mode": {
    "name": "ipython",
    "version": 3
   },
   "file_extension": ".py",
   "mimetype": "text/x-python",
   "name": "python",
   "nbconvert_exporter": "python",
   "pygments_lexer": "ipython3",
   "version": "3.8.5"
  }
 },
 "nbformat": 4,
 "nbformat_minor": 4
}
